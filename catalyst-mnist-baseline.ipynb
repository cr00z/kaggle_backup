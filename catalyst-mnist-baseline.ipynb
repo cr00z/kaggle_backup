{
 "cells": [
  {
   "cell_type": "markdown",
   "id": "29cdf9f6",
   "metadata": {
    "papermill": {
     "duration": 0.005018,
     "end_time": "2022-04-25T12:38:58.998900",
     "exception": false,
     "start_time": "2022-04-25T12:38:58.993882",
     "status": "completed"
    },
    "tags": []
   },
   "source": [
    "# CATALYST\n",
    "\n",
    "![Catalyst logo](https://raw.githubusercontent.com/catalyst-team/catalyst-pics/master/pics/catalyst_logo.png)\n",
    "\n",
    "PyTorch framework for Deep Learning R&D.\n",
    "\n",
    "It focuses on reproducibility, rapid experimentation, and codebase reuse so you can create something new rather than write yet another train loop. Break the cycle - use the Catalyst!"
   ]
  },
  {
   "cell_type": "code",
   "execution_count": 1,
   "id": "4ecdc3dc",
   "metadata": {
    "_cell_guid": "cb268959-ecd3-4d5e-8280-6909a1de2d53",
    "_uuid": "24ec9aed-f9a2-4f74-8db2-cc017562a6e4",
    "collapsed": false,
    "execution": {
     "iopub.execute_input": "2022-04-25T12:38:59.025530Z",
     "iopub.status.busy": "2022-04-25T12:38:59.024718Z",
     "iopub.status.idle": "2022-04-25T12:39:10.422615Z",
     "shell.execute_reply": "2022-04-25T12:39:10.421761Z",
     "shell.execute_reply.started": "2021-12-05T12:19:59.715498Z"
    },
    "jupyter": {
     "outputs_hidden": false
    },
    "papermill": {
     "duration": 11.419096,
     "end_time": "2022-04-25T12:39:10.422787",
     "exception": false,
     "start_time": "2022-04-25T12:38:59.003691",
     "status": "completed"
    },
    "tags": []
   },
   "outputs": [
    {
     "name": "stdout",
     "output_type": "stream",
     "text": [
      "37800 4200 28000\n"
     ]
    }
   ],
   "source": [
    "import os\n",
    "import numpy as np\n",
    "import pandas as pd\n",
    "import torch\n",
    "from torch import nn, optim\n",
    "from torch.utils.data import TensorDataset, Subset, DataLoader\n",
    "from sklearn.model_selection import train_test_split\n",
    "from catalyst import dl, utils\n",
    "\n",
    "\n",
    "def get_dataset(csv_file: str, labels: bool = True) -> TensorDataset:\n",
    "    '''Create tensor dataset from csv file\n",
    "    '''\n",
    "    df = pd.read_csv(csv_file)\n",
    "    if not labels:\n",
    "        df['label'] = 0\n",
    "    y = torch.tensor(df.label.values)\n",
    "    x = torch.tensor(df.drop(['label'], axis=1).values)\n",
    "    return TensorDataset(x / 255, y)\n",
    "\n",
    "\n",
    "dataset: TensorDataset = get_dataset('../input/digit-recognizer/train.csv')\n",
    "test_dataset: TensorDataset = get_dataset('../input/digit-recognizer/test.csv', labels=False)\n",
    "\n",
    "# Split the dataset\n",
    "idx: np.array = np.arange(len(dataset))\n",
    "train_idx, test_idx = train_test_split(idx, train_size=0.9)\n",
    "train_dataset = Subset(dataset, train_idx, )\n",
    "valid_dataset = Subset(dataset, test_idx)\n",
    "print(len(train_dataset), len(valid_dataset), len(test_dataset))\n",
    "\n",
    "loaders = {\n",
    "    'train': DataLoader(train_dataset, batch_size=32, shuffle=True),\n",
    "    'valid': DataLoader(valid_dataset, batch_size=32, shuffle=False),\n",
    "}\n",
    "test_loader : DataLoader = DataLoader(test_dataset, batch_size=1, shuffle=False)\n",
    "    \n",
    "model = nn.Sequential(\n",
    "    nn.Flatten(),\n",
    "    nn.Linear(28 * 28, 10)\n",
    ")\n",
    "criterion = nn.CrossEntropyLoss()\n",
    "optimizer = optim.Adam(model.parameters(), lr=0.02)\n",
    "\n",
    "runner = dl.SupervisedRunner(\n",
    "    input_key='features', output_key='logits', target_key='targets', loss_key='loss'\n",
    ")"
   ]
  },
  {
   "cell_type": "code",
   "execution_count": 2,
   "id": "309bd8fb",
   "metadata": {
    "execution": {
     "iopub.execute_input": "2022-04-25T12:39:10.440492Z",
     "iopub.status.busy": "2022-04-25T12:39:10.439629Z",
     "iopub.status.idle": "2022-04-25T12:39:42.120221Z",
     "shell.execute_reply": "2022-04-25T12:39:42.120746Z"
    },
    "papermill": {
     "duration": 31.692728,
     "end_time": "2022-04-25T12:39:42.120921",
     "exception": false,
     "start_time": "2022-04-25T12:39:10.428193",
     "status": "completed"
    },
    "tags": []
   },
   "outputs": [
    {
     "data": {
      "application/vnd.jupyter.widget-view+json": {
       "model_id": "a9d71ce2b00c4b5983763ee7afea1985",
       "version_major": 2,
       "version_minor": 0
      },
      "text/plain": [
       "1/1 * Epoch (train):   0%|          | 0/1182 [00:00<?, ?it/s]"
      ]
     },
     "metadata": {},
     "output_type": "display_data"
    },
    {
     "name": "stdout",
     "output_type": "stream",
     "text": [
      "train (1/1) accuracy01: 0.8784126984126982 | accuracy01/std: 0.07205458941880563 | accuracy03: 0.9731746031746037 | accuracy03/std: 0.04479924490086416 | accuracy05: 0.990476190476191 | accuracy05/std: 0.03046046809731511 | f1/_macro: 0.8767688264439519 | f1/_micro: 0.8784076984411587 | f1/_weighted: 0.8782172953642555 | f1/class_00: 0.9427227573638143 | f1/class_01: 0.9491875030289556 | f1/class_02: 0.8667338953607854 | f1/class_03: 0.8453796154302953 | f1/class_04: 0.8831820358223229 | f1/class_05: 0.8101065260916702 | f1/class_06: 0.925672488675567 | f1/class_07: 0.8991172491936427 | f1/class_08: 0.813591193337072 | f1/class_09: 0.8319950001353946 | loss: 0.46729418902406616 | loss/mean: 0.46729418902406616 | loss/std: 0.30029187102151095 | lr: 0.02 | momentum: 0.9 | precision/_macro: 0.8768893695958313 | precision/_micro: 0.8784126984126984 | precision/_weighted: 0.8781443908400692 | precision/class_00: 0.9357482813326282 | precision/class_01: 0.9413140051437924 | precision/class_02: 0.8747949699289229 | precision/class_03: 0.8469047007449269 | precision/class_04: 0.8821149177232264 | precision/class_05: 0.8262056414922657 | precision/class_06: 0.9227066060443969 | precision/class_07: 0.9029126213592233 | precision/class_08: 0.8079935187685661 | precision/class_09: 0.8281984334203656 | recall/_macro: 0.876775501519292 | recall/_micro: 0.8784126984126984 | recall/_weighted: 0.8784126984126985 | recall/class_00: 0.9498121309715513 | recall/class_01: 0.9572039942938659 | recall/class_02: 0.8588298443370908 | recall/class_03: 0.8438699769644229 | recall/class_04: 0.8842617631151974 | recall/class_05: 0.79463243873979 | recall/class_06: 0.9286675639300135 | recall/class_07: 0.8953635672662782 | recall/class_08: 0.8192771084337349 | recall/class_09: 0.835836627140975 | support/class_00: 3726.0 | support/class_01: 4206.0 | support/class_02: 3726.0 | support/class_03: 3907.0 | support/class_04: 3698.0 | support/class_05: 3428.0 | support/class_06: 3715.0 | support/class_07: 3947.0 | support/class_08: 3652.0 | support/class_09: 3795.0\n"
     ]
    },
    {
     "data": {
      "application/vnd.jupyter.widget-view+json": {
       "model_id": "40277a7b99f64fd5ab0120144f4657fb",
       "version_major": 2,
       "version_minor": 0
      },
      "text/plain": [
       "1/1 * Epoch (valid):   0%|          | 0/132 [00:00<?, ?it/s]"
      ]
     },
     "metadata": {},
     "output_type": "display_data"
    },
    {
     "name": "stdout",
     "output_type": "stream",
     "text": [
      "valid (1/1) accuracy01: 0.8854761904761903 | accuracy01/std: 0.05333662731240196 | accuracy03: 0.9795238095238099 | accuracy03/std: 0.02434689962940028 | accuracy05: 0.9940476190476192 | accuracy05/std: 0.012864735645996045 | f1/_macro: 0.8832272830580384 | f1/_micro: 0.8854711905044238 | f1/_weighted: 0.8841357029664321 | f1/class_00: 0.9549950011511661 | f1/class_01: 0.9389339482289837 | f1/class_02: 0.8972923004164316 | f1/class_03: 0.8739240463570291 | f1/class_04: 0.9226754189078831 | f1/class_05: 0.8616550845049183 | f1/class_06: 0.9495142318356745 | f1/class_07: 0.8361855676660019 | f1/class_08: 0.824442357980594 | f1/class_09: 0.7726548735317017 | loss: 0.49341805154368984 | loss/mean: 0.49341805154368984 | loss/std: 0.3256284591763327 | lr: 0.02 | momentum: 0.9 | precision/_macro: 0.8941136111000864 | precision/_micro: 0.8854761904761905 | precision/_weighted: 0.8935189040197875 | precision/class_00: 0.9695431472081218 | precision/class_01: 0.9001919385796545 | precision/class_02: 0.8755274261603375 | precision/class_03: 0.9571045576407506 | precision/class_04: 0.8905472636815921 | precision/class_05: 0.8341836734693877 | precision/class_06: 0.9634146341463414 | precision/class_07: 0.7365771812080537 | precision/class_08: 0.8854748603351955 | precision/class_09: 0.9285714285714286 | recall/_macro: 0.8830363566618704 | recall/_micro: 0.8854761904761905 | recall/_weighted: 0.8854761904761905 | recall/class_00: 0.9408866995073891 | recall/class_01: 0.9811715481171548 | recall/class_02: 0.9201773835920177 | recall/class_03: 0.8040540540540541 | recall/class_04: 0.9572192513368984 | recall/class_05: 0.8910081743869209 | recall/class_06: 0.9360189573459716 | recall/class_07: 0.9669603524229075 | recall/class_08: 0.7712895377128954 | recall/class_09: 0.6615776081424936 | support/class_00: 406.0 | support/class_01: 478.0 | support/class_02: 451.0 | support/class_03: 444.0 | support/class_04: 374.0 | support/class_05: 367.0 | support/class_06: 422.0 | support/class_07: 454.0 | support/class_08: 411.0 | support/class_09: 393.0\n",
      "* Epoch (1/1) \n",
      "Top best models:\n",
      "logs/checkpoints/train.1.pth\t0.4934\n"
     ]
    }
   ],
   "source": [
    "# model training\n",
    "runner.train(\n",
    "    model=model,\n",
    "    criterion=criterion,\n",
    "    optimizer=optimizer,\n",
    "    loaders=loaders,\n",
    "    num_epochs=1,\n",
    "    callbacks=[\n",
    "        dl.AccuracyCallback(input_key='logits', target_key='targets', topk_args=(1, 3, 5)),\n",
    "        dl.PrecisionRecallF1SupportCallback(input_key='logits', target_key='targets', num_classes=10),\n",
    "    ],\n",
    "    logdir='./logs',\n",
    "    valid_loader='valid',\n",
    "    valid_metric='loss',\n",
    "    minimize_valid_metric=True,\n",
    "    verbose=True,\n",
    "    load_best_on_end=True,\n",
    ")"
   ]
  },
  {
   "cell_type": "code",
   "execution_count": 3,
   "id": "ddf2f6ae",
   "metadata": {
    "execution": {
     "iopub.execute_input": "2022-04-25T12:39:42.140264Z",
     "iopub.status.busy": "2022-04-25T12:39:42.139405Z",
     "iopub.status.idle": "2022-04-25T12:39:42.332352Z",
     "shell.execute_reply": "2022-04-25T12:39:42.332848Z"
    },
    "papermill": {
     "duration": 0.205359,
     "end_time": "2022-04-25T12:39:42.333006",
     "exception": false,
     "start_time": "2022-04-25T12:39:42.127647",
     "status": "completed"
    },
    "tags": []
   },
   "outputs": [
    {
     "name": "stdout",
     "output_type": "stream",
     "text": [
      "valid (1/1) accuracy01: 0.8854761904761903 | accuracy01/std: 0.05333662731240196 | accuracy03: 0.9795238095238099 | accuracy03/std: 0.02434689962940028 | accuracy05: 0.9940476190476192 | accuracy05/std: 0.012864735645996045\n",
      "* Epoch (1/1) \n"
     ]
    }
   ],
   "source": [
    "# model evaluation\n",
    "metrics = runner.evaluate_loader(\n",
    "    loader=loaders['valid'],\n",
    "    callbacks=[dl.AccuracyCallback(input_key='logits', target_key='targets', topk_args=(1, 3, 5))]\n",
    ")\n",
    "assert 'accuracy01' in metrics.keys()"
   ]
  },
  {
   "cell_type": "code",
   "execution_count": 4,
   "id": "e5c7ca84",
   "metadata": {
    "execution": {
     "iopub.execute_input": "2022-04-25T12:39:42.352411Z",
     "iopub.status.busy": "2022-04-25T12:39:42.351804Z",
     "iopub.status.idle": "2022-04-25T12:39:49.278127Z",
     "shell.execute_reply": "2022-04-25T12:39:49.277160Z"
    },
    "papermill": {
     "duration": 6.938033,
     "end_time": "2022-04-25T12:39:49.278278",
     "exception": false,
     "start_time": "2022-04-25T12:39:42.340245",
     "status": "completed"
    },
    "tags": []
   },
   "outputs": [],
   "source": [
    "# model inference\n",
    "submission = pd.read_csv('../input/digit-recognizer/sample_submission.csv')\n",
    "submission.Label = [p['logits'].cpu().numpy().argmax() for p in runner.predict_loader(loader=test_loader)]\n",
    "submission.to_csv('submission.csv', index=False)"
   ]
  }
 ],
 "metadata": {
  "kernelspec": {
   "display_name": "Python 3",
   "language": "python",
   "name": "python3"
  },
  "language_info": {
   "codemirror_mode": {
    "name": "ipython",
    "version": 3
   },
   "file_extension": ".py",
   "mimetype": "text/x-python",
   "name": "python",
   "nbconvert_exporter": "python",
   "pygments_lexer": "ipython3",
   "version": "3.7.12"
  },
  "papermill": {
   "default_parameters": {},
   "duration": 60.414843,
   "end_time": "2022-04-25T12:39:50.697997",
   "environment_variables": {},
   "exception": null,
   "input_path": "__notebook__.ipynb",
   "output_path": "__notebook__.ipynb",
   "parameters": {},
   "start_time": "2022-04-25T12:38:50.283154",
   "version": "2.3.3"
  },
  "widgets": {
   "application/vnd.jupyter.widget-state+json": {
    "state": {
     "1235bfb6fbda4fbbab027078ce232f39": {
      "model_module": "@jupyter-widgets/controls",
      "model_module_version": "1.5.0",
      "model_name": "HTMLModel",
      "state": {
       "_dom_classes": [],
       "_model_module": "@jupyter-widgets/controls",
       "_model_module_version": "1.5.0",
       "_model_name": "HTMLModel",
       "_view_count": null,
       "_view_module": "@jupyter-widgets/controls",
       "_view_module_version": "1.5.0",
       "_view_name": "HTMLView",
       "description": "",
       "description_tooltip": null,
       "layout": "IPY_MODEL_ea1301515efd4e699ef534370b2a0670",
       "placeholder": "​",
       "style": "IPY_MODEL_8523204b878f48588107a88bef0ea587",
       "value": " 132/132 [00:02&lt;00:00, 48.06it/s, accuracy01=0.750, accuracy03=1.000, accuracy05=1.000, f1/_macro=0.380, f1/_micro=0.750, f1/_weighted=0.800, f1/class_00=1.000, f1/class_01=0.000e+00, f1/class_02=1.000, f1/class_03=0.000e+00, f1/class_04=0.000e+00, f1/class_05=0.800, f1/class_06=0.000e+00, f1/class_07=0.000e+00, f1/class_08=1.000, f1/class_09=0.000e+00, loss=1.491, lr=0.020, momentum=0.900, precision/_macro=0.400, precision/_micro=0.750, precision/_weighted=0.875, precision/class_00=1.000, precision/class_01=0.000e+00, precision/class_02=1.000, precision/class_03=0.000e+00, precision/class_04=0.000e+00, precision/class_05=1.000, precision/class_06=0.000e+00, precision/class_07=0.000e+00, precision/class_08=1.000, precision/class_09=0.000e+00, recall/_macro=0.367, recall/_micro=0.750, recall/_weighted=0.750, recall/class_00=1.000, recall/class_01=0.000e+00, recall/class_02=1.000, recall/class_03=0.000e+00, recall/class_04=0.000e+00, recall/class_05=0.667, recall/class_06=0.000e+00, recall/class_07=0.000e+00, recall/class_08=1.000, recall/class_09=0.000e+00, support/class_00=1.000, support/class_01=0.000e+00, support/class_02=1.000, support/class_03=1.000, support/class_04=0.000e+00, support/class_05=3.000, support/class_06=0.000e+00, support/class_07=0.000e+00, support/class_08=2.000, support/class_09=0.000e+00]"
      }
     },
     "1693222d61d148f8b94bfe452a4b6390": {
      "model_module": "@jupyter-widgets/controls",
      "model_module_version": "1.5.0",
      "model_name": "FloatProgressModel",
      "state": {
       "_dom_classes": [],
       "_model_module": "@jupyter-widgets/controls",
       "_model_module_version": "1.5.0",
       "_model_name": "FloatProgressModel",
       "_view_count": null,
       "_view_module": "@jupyter-widgets/controls",
       "_view_module_version": "1.5.0",
       "_view_name": "ProgressView",
       "bar_style": "success",
       "description": "",
       "description_tooltip": null,
       "layout": "IPY_MODEL_f54be8cd23834cc0baee6c3b9ee7f01b",
       "max": 132.0,
       "min": 0.0,
       "orientation": "horizontal",
       "style": "IPY_MODEL_dce856529e684a628a69908b27f905f7",
       "value": 132.0
      }
     },
     "2161d19250564b18b85e9a916e1a4b15": {
      "model_module": "@jupyter-widgets/controls",
      "model_module_version": "1.5.0",
      "model_name": "FloatProgressModel",
      "state": {
       "_dom_classes": [],
       "_model_module": "@jupyter-widgets/controls",
       "_model_module_version": "1.5.0",
       "_model_name": "FloatProgressModel",
       "_view_count": null,
       "_view_module": "@jupyter-widgets/controls",
       "_view_module_version": "1.5.0",
       "_view_name": "ProgressView",
       "bar_style": "success",
       "description": "",
       "description_tooltip": null,
       "layout": "IPY_MODEL_ee89486a43dc4fb590c830bbe3d819ed",
       "max": 1182.0,
       "min": 0.0,
       "orientation": "horizontal",
       "style": "IPY_MODEL_39d899fb71374bb084b0bb91c3e7a48b",
       "value": 1182.0
      }
     },
     "26f50fc8490a4fdd8eec77e9df5c2c1e": {
      "model_module": "@jupyter-widgets/controls",
      "model_module_version": "1.5.0",
      "model_name": "DescriptionStyleModel",
      "state": {
       "_model_module": "@jupyter-widgets/controls",
       "_model_module_version": "1.5.0",
       "_model_name": "DescriptionStyleModel",
       "_view_count": null,
       "_view_module": "@jupyter-widgets/base",
       "_view_module_version": "1.2.0",
       "_view_name": "StyleView",
       "description_width": ""
      }
     },
     "285e554f393746cca9164db31d5bb4b7": {
      "model_module": "@jupyter-widgets/controls",
      "model_module_version": "1.5.0",
      "model_name": "DescriptionStyleModel",
      "state": {
       "_model_module": "@jupyter-widgets/controls",
       "_model_module_version": "1.5.0",
       "_model_name": "DescriptionStyleModel",
       "_view_count": null,
       "_view_module": "@jupyter-widgets/base",
       "_view_module_version": "1.2.0",
       "_view_name": "StyleView",
       "description_width": ""
      }
     },
     "2b9343c415df478aa920339c42f433d7": {
      "model_module": "@jupyter-widgets/base",
      "model_module_version": "1.2.0",
      "model_name": "LayoutModel",
      "state": {
       "_model_module": "@jupyter-widgets/base",
       "_model_module_version": "1.2.0",
       "_model_name": "LayoutModel",
       "_view_count": null,
       "_view_module": "@jupyter-widgets/base",
       "_view_module_version": "1.2.0",
       "_view_name": "LayoutView",
       "align_content": null,
       "align_items": null,
       "align_self": null,
       "border": null,
       "bottom": null,
       "display": null,
       "flex": null,
       "flex_flow": null,
       "grid_area": null,
       "grid_auto_columns": null,
       "grid_auto_flow": null,
       "grid_auto_rows": null,
       "grid_column": null,
       "grid_gap": null,
       "grid_row": null,
       "grid_template_areas": null,
       "grid_template_columns": null,
       "grid_template_rows": null,
       "height": null,
       "justify_content": null,
       "justify_items": null,
       "left": null,
       "margin": null,
       "max_height": null,
       "max_width": null,
       "min_height": null,
       "min_width": null,
       "object_fit": null,
       "object_position": null,
       "order": null,
       "overflow": null,
       "overflow_x": null,
       "overflow_y": null,
       "padding": null,
       "right": null,
       "top": null,
       "visibility": null,
       "width": null
      }
     },
     "39d899fb71374bb084b0bb91c3e7a48b": {
      "model_module": "@jupyter-widgets/controls",
      "model_module_version": "1.5.0",
      "model_name": "ProgressStyleModel",
      "state": {
       "_model_module": "@jupyter-widgets/controls",
       "_model_module_version": "1.5.0",
       "_model_name": "ProgressStyleModel",
       "_view_count": null,
       "_view_module": "@jupyter-widgets/base",
       "_view_module_version": "1.2.0",
       "_view_name": "StyleView",
       "bar_color": null,
       "description_width": ""
      }
     },
     "40277a7b99f64fd5ab0120144f4657fb": {
      "model_module": "@jupyter-widgets/controls",
      "model_module_version": "1.5.0",
      "model_name": "HBoxModel",
      "state": {
       "_dom_classes": [],
       "_model_module": "@jupyter-widgets/controls",
       "_model_module_version": "1.5.0",
       "_model_name": "HBoxModel",
       "_view_count": null,
       "_view_module": "@jupyter-widgets/controls",
       "_view_module_version": "1.5.0",
       "_view_name": "HBoxView",
       "box_style": "",
       "children": [
        "IPY_MODEL_4ce9995fdcad4079b18df7a46cfa2dd7",
        "IPY_MODEL_1693222d61d148f8b94bfe452a4b6390",
        "IPY_MODEL_1235bfb6fbda4fbbab027078ce232f39"
       ],
       "layout": "IPY_MODEL_5755d5d601b44fce93cbc07a9388070c"
      }
     },
     "4ce9995fdcad4079b18df7a46cfa2dd7": {
      "model_module": "@jupyter-widgets/controls",
      "model_module_version": "1.5.0",
      "model_name": "HTMLModel",
      "state": {
       "_dom_classes": [],
       "_model_module": "@jupyter-widgets/controls",
       "_model_module_version": "1.5.0",
       "_model_name": "HTMLModel",
       "_view_count": null,
       "_view_module": "@jupyter-widgets/controls",
       "_view_module_version": "1.5.0",
       "_view_name": "HTMLView",
       "description": "",
       "description_tooltip": null,
       "layout": "IPY_MODEL_2b9343c415df478aa920339c42f433d7",
       "placeholder": "​",
       "style": "IPY_MODEL_285e554f393746cca9164db31d5bb4b7",
       "value": "1/1 * Epoch (valid): 100%"
      }
     },
     "5755d5d601b44fce93cbc07a9388070c": {
      "model_module": "@jupyter-widgets/base",
      "model_module_version": "1.2.0",
      "model_name": "LayoutModel",
      "state": {
       "_model_module": "@jupyter-widgets/base",
       "_model_module_version": "1.2.0",
       "_model_name": "LayoutModel",
       "_view_count": null,
       "_view_module": "@jupyter-widgets/base",
       "_view_module_version": "1.2.0",
       "_view_name": "LayoutView",
       "align_content": null,
       "align_items": null,
       "align_self": null,
       "border": null,
       "bottom": null,
       "display": null,
       "flex": null,
       "flex_flow": null,
       "grid_area": null,
       "grid_auto_columns": null,
       "grid_auto_flow": null,
       "grid_auto_rows": null,
       "grid_column": null,
       "grid_gap": null,
       "grid_row": null,
       "grid_template_areas": null,
       "grid_template_columns": null,
       "grid_template_rows": null,
       "height": null,
       "justify_content": null,
       "justify_items": null,
       "left": null,
       "margin": null,
       "max_height": null,
       "max_width": null,
       "min_height": null,
       "min_width": null,
       "object_fit": null,
       "object_position": null,
       "order": null,
       "overflow": null,
       "overflow_x": null,
       "overflow_y": null,
       "padding": null,
       "right": null,
       "top": null,
       "visibility": null,
       "width": null
      }
     },
     "6c1918fcf2d24aaebc15ca1d0a843d94": {
      "model_module": "@jupyter-widgets/base",
      "model_module_version": "1.2.0",
      "model_name": "LayoutModel",
      "state": {
       "_model_module": "@jupyter-widgets/base",
       "_model_module_version": "1.2.0",
       "_model_name": "LayoutModel",
       "_view_count": null,
       "_view_module": "@jupyter-widgets/base",
       "_view_module_version": "1.2.0",
       "_view_name": "LayoutView",
       "align_content": null,
       "align_items": null,
       "align_self": null,
       "border": null,
       "bottom": null,
       "display": null,
       "flex": null,
       "flex_flow": null,
       "grid_area": null,
       "grid_auto_columns": null,
       "grid_auto_flow": null,
       "grid_auto_rows": null,
       "grid_column": null,
       "grid_gap": null,
       "grid_row": null,
       "grid_template_areas": null,
       "grid_template_columns": null,
       "grid_template_rows": null,
       "height": null,
       "justify_content": null,
       "justify_items": null,
       "left": null,
       "margin": null,
       "max_height": null,
       "max_width": null,
       "min_height": null,
       "min_width": null,
       "object_fit": null,
       "object_position": null,
       "order": null,
       "overflow": null,
       "overflow_x": null,
       "overflow_y": null,
       "padding": null,
       "right": null,
       "top": null,
       "visibility": null,
       "width": null
      }
     },
     "8523204b878f48588107a88bef0ea587": {
      "model_module": "@jupyter-widgets/controls",
      "model_module_version": "1.5.0",
      "model_name": "DescriptionStyleModel",
      "state": {
       "_model_module": "@jupyter-widgets/controls",
       "_model_module_version": "1.5.0",
       "_model_name": "DescriptionStyleModel",
       "_view_count": null,
       "_view_module": "@jupyter-widgets/base",
       "_view_module_version": "1.2.0",
       "_view_name": "StyleView",
       "description_width": ""
      }
     },
     "85c700c4dd1c4a6a9c7baafaac64950b": {
      "model_module": "@jupyter-widgets/base",
      "model_module_version": "1.2.0",
      "model_name": "LayoutModel",
      "state": {
       "_model_module": "@jupyter-widgets/base",
       "_model_module_version": "1.2.0",
       "_model_name": "LayoutModel",
       "_view_count": null,
       "_view_module": "@jupyter-widgets/base",
       "_view_module_version": "1.2.0",
       "_view_name": "LayoutView",
       "align_content": null,
       "align_items": null,
       "align_self": null,
       "border": null,
       "bottom": null,
       "display": null,
       "flex": null,
       "flex_flow": null,
       "grid_area": null,
       "grid_auto_columns": null,
       "grid_auto_flow": null,
       "grid_auto_rows": null,
       "grid_column": null,
       "grid_gap": null,
       "grid_row": null,
       "grid_template_areas": null,
       "grid_template_columns": null,
       "grid_template_rows": null,
       "height": null,
       "justify_content": null,
       "justify_items": null,
       "left": null,
       "margin": null,
       "max_height": null,
       "max_width": null,
       "min_height": null,
       "min_width": null,
       "object_fit": null,
       "object_position": null,
       "order": null,
       "overflow": null,
       "overflow_x": null,
       "overflow_y": null,
       "padding": null,
       "right": null,
       "top": null,
       "visibility": null,
       "width": null
      }
     },
     "a2b7caa29a3f45cab4b2cdd29fa476bb": {
      "model_module": "@jupyter-widgets/controls",
      "model_module_version": "1.5.0",
      "model_name": "DescriptionStyleModel",
      "state": {
       "_model_module": "@jupyter-widgets/controls",
       "_model_module_version": "1.5.0",
       "_model_name": "DescriptionStyleModel",
       "_view_count": null,
       "_view_module": "@jupyter-widgets/base",
       "_view_module_version": "1.2.0",
       "_view_name": "StyleView",
       "description_width": ""
      }
     },
     "a9d71ce2b00c4b5983763ee7afea1985": {
      "model_module": "@jupyter-widgets/controls",
      "model_module_version": "1.5.0",
      "model_name": "HBoxModel",
      "state": {
       "_dom_classes": [],
       "_model_module": "@jupyter-widgets/controls",
       "_model_module_version": "1.5.0",
       "_model_name": "HBoxModel",
       "_view_count": null,
       "_view_module": "@jupyter-widgets/controls",
       "_view_module_version": "1.5.0",
       "_view_name": "HBoxView",
       "box_style": "",
       "children": [
        "IPY_MODEL_b589ea47ee594503b177d22e53ef2bb5",
        "IPY_MODEL_2161d19250564b18b85e9a916e1a4b15",
        "IPY_MODEL_ce2b990ad2b54b059e4bd761e1648aff"
       ],
       "layout": "IPY_MODEL_85c700c4dd1c4a6a9c7baafaac64950b"
      }
     },
     "b589ea47ee594503b177d22e53ef2bb5": {
      "model_module": "@jupyter-widgets/controls",
      "model_module_version": "1.5.0",
      "model_name": "HTMLModel",
      "state": {
       "_dom_classes": [],
       "_model_module": "@jupyter-widgets/controls",
       "_model_module_version": "1.5.0",
       "_model_name": "HTMLModel",
       "_view_count": null,
       "_view_module": "@jupyter-widgets/controls",
       "_view_module_version": "1.5.0",
       "_view_name": "HTMLView",
       "description": "",
       "description_tooltip": null,
       "layout": "IPY_MODEL_bcbd775a2f9d4157a0d2461a7b9f7e41",
       "placeholder": "​",
       "style": "IPY_MODEL_26f50fc8490a4fdd8eec77e9df5c2c1e",
       "value": "1/1 * Epoch (train): 100%"
      }
     },
     "bcbd775a2f9d4157a0d2461a7b9f7e41": {
      "model_module": "@jupyter-widgets/base",
      "model_module_version": "1.2.0",
      "model_name": "LayoutModel",
      "state": {
       "_model_module": "@jupyter-widgets/base",
       "_model_module_version": "1.2.0",
       "_model_name": "LayoutModel",
       "_view_count": null,
       "_view_module": "@jupyter-widgets/base",
       "_view_module_version": "1.2.0",
       "_view_name": "LayoutView",
       "align_content": null,
       "align_items": null,
       "align_self": null,
       "border": null,
       "bottom": null,
       "display": null,
       "flex": null,
       "flex_flow": null,
       "grid_area": null,
       "grid_auto_columns": null,
       "grid_auto_flow": null,
       "grid_auto_rows": null,
       "grid_column": null,
       "grid_gap": null,
       "grid_row": null,
       "grid_template_areas": null,
       "grid_template_columns": null,
       "grid_template_rows": null,
       "height": null,
       "justify_content": null,
       "justify_items": null,
       "left": null,
       "margin": null,
       "max_height": null,
       "max_width": null,
       "min_height": null,
       "min_width": null,
       "object_fit": null,
       "object_position": null,
       "order": null,
       "overflow": null,
       "overflow_x": null,
       "overflow_y": null,
       "padding": null,
       "right": null,
       "top": null,
       "visibility": null,
       "width": null
      }
     },
     "ce2b990ad2b54b059e4bd761e1648aff": {
      "model_module": "@jupyter-widgets/controls",
      "model_module_version": "1.5.0",
      "model_name": "HTMLModel",
      "state": {
       "_dom_classes": [],
       "_model_module": "@jupyter-widgets/controls",
       "_model_module_version": "1.5.0",
       "_model_name": "HTMLModel",
       "_view_count": null,
       "_view_module": "@jupyter-widgets/controls",
       "_view_module_version": "1.5.0",
       "_view_name": "HTMLView",
       "description": "",
       "description_tooltip": null,
       "layout": "IPY_MODEL_6c1918fcf2d24aaebc15ca1d0a843d94",
       "placeholder": "​",
       "style": "IPY_MODEL_a2b7caa29a3f45cab4b2cdd29fa476bb",
       "value": " 1182/1182 [00:26&lt;00:00, 46.20it/s, accuracy01=0.750, accuracy03=1.000, accuracy05=1.000, f1/_macro=0.480, f1/_micro=0.750, f1/_weighted=0.800, f1/class_00=1.000, f1/class_01=0.000e+00, f1/class_02=0.000e+00, f1/class_03=0.000e+00, f1/class_04=0.800, f1/class_05=0.000e+00, f1/class_06=1.000, f1/class_07=1.000, f1/class_08=1.000, f1/class_09=0.000e+00, loss=0.729, lr=0.020, momentum=0.900, precision/_macro=0.500, precision/_micro=0.750, precision/_weighted=0.875, precision/class_00=1.000, precision/class_01=0.000e+00, precision/class_02=0.000e+00, precision/class_03=0.000e+00, precision/class_04=1.000, precision/class_05=0.000e+00, precision/class_06=1.000, precision/class_07=1.000, precision/class_08=1.000, precision/class_09=0.000e+00, recall/_macro=0.467, recall/_micro=0.750, recall/_weighted=0.750, recall/class_00=1.000, recall/class_01=0.000e+00, recall/class_02=0.000e+00, recall/class_03=0.000e+00, recall/class_04=0.667, recall/class_05=0.000e+00, recall/class_06=1.000, recall/class_07=1.000, recall/class_08=1.000, recall/class_09=0.000e+00, support/class_00=1.000, support/class_01=0.000e+00, support/class_02=0.000e+00, support/class_03=1.000, support/class_04=3.000, support/class_05=0.000e+00, support/class_06=1.000, support/class_07=1.000, support/class_08=1.000, support/class_09=0.000e+00]"
      }
     },
     "dce856529e684a628a69908b27f905f7": {
      "model_module": "@jupyter-widgets/controls",
      "model_module_version": "1.5.0",
      "model_name": "ProgressStyleModel",
      "state": {
       "_model_module": "@jupyter-widgets/controls",
       "_model_module_version": "1.5.0",
       "_model_name": "ProgressStyleModel",
       "_view_count": null,
       "_view_module": "@jupyter-widgets/base",
       "_view_module_version": "1.2.0",
       "_view_name": "StyleView",
       "bar_color": null,
       "description_width": ""
      }
     },
     "ea1301515efd4e699ef534370b2a0670": {
      "model_module": "@jupyter-widgets/base",
      "model_module_version": "1.2.0",
      "model_name": "LayoutModel",
      "state": {
       "_model_module": "@jupyter-widgets/base",
       "_model_module_version": "1.2.0",
       "_model_name": "LayoutModel",
       "_view_count": null,
       "_view_module": "@jupyter-widgets/base",
       "_view_module_version": "1.2.0",
       "_view_name": "LayoutView",
       "align_content": null,
       "align_items": null,
       "align_self": null,
       "border": null,
       "bottom": null,
       "display": null,
       "flex": null,
       "flex_flow": null,
       "grid_area": null,
       "grid_auto_columns": null,
       "grid_auto_flow": null,
       "grid_auto_rows": null,
       "grid_column": null,
       "grid_gap": null,
       "grid_row": null,
       "grid_template_areas": null,
       "grid_template_columns": null,
       "grid_template_rows": null,
       "height": null,
       "justify_content": null,
       "justify_items": null,
       "left": null,
       "margin": null,
       "max_height": null,
       "max_width": null,
       "min_height": null,
       "min_width": null,
       "object_fit": null,
       "object_position": null,
       "order": null,
       "overflow": null,
       "overflow_x": null,
       "overflow_y": null,
       "padding": null,
       "right": null,
       "top": null,
       "visibility": null,
       "width": null
      }
     },
     "ee89486a43dc4fb590c830bbe3d819ed": {
      "model_module": "@jupyter-widgets/base",
      "model_module_version": "1.2.0",
      "model_name": "LayoutModel",
      "state": {
       "_model_module": "@jupyter-widgets/base",
       "_model_module_version": "1.2.0",
       "_model_name": "LayoutModel",
       "_view_count": null,
       "_view_module": "@jupyter-widgets/base",
       "_view_module_version": "1.2.0",
       "_view_name": "LayoutView",
       "align_content": null,
       "align_items": null,
       "align_self": null,
       "border": null,
       "bottom": null,
       "display": null,
       "flex": null,
       "flex_flow": null,
       "grid_area": null,
       "grid_auto_columns": null,
       "grid_auto_flow": null,
       "grid_auto_rows": null,
       "grid_column": null,
       "grid_gap": null,
       "grid_row": null,
       "grid_template_areas": null,
       "grid_template_columns": null,
       "grid_template_rows": null,
       "height": null,
       "justify_content": null,
       "justify_items": null,
       "left": null,
       "margin": null,
       "max_height": null,
       "max_width": null,
       "min_height": null,
       "min_width": null,
       "object_fit": null,
       "object_position": null,
       "order": null,
       "overflow": null,
       "overflow_x": null,
       "overflow_y": null,
       "padding": null,
       "right": null,
       "top": null,
       "visibility": null,
       "width": null
      }
     },
     "f54be8cd23834cc0baee6c3b9ee7f01b": {
      "model_module": "@jupyter-widgets/base",
      "model_module_version": "1.2.0",
      "model_name": "LayoutModel",
      "state": {
       "_model_module": "@jupyter-widgets/base",
       "_model_module_version": "1.2.0",
       "_model_name": "LayoutModel",
       "_view_count": null,
       "_view_module": "@jupyter-widgets/base",
       "_view_module_version": "1.2.0",
       "_view_name": "LayoutView",
       "align_content": null,
       "align_items": null,
       "align_self": null,
       "border": null,
       "bottom": null,
       "display": null,
       "flex": null,
       "flex_flow": null,
       "grid_area": null,
       "grid_auto_columns": null,
       "grid_auto_flow": null,
       "grid_auto_rows": null,
       "grid_column": null,
       "grid_gap": null,
       "grid_row": null,
       "grid_template_areas": null,
       "grid_template_columns": null,
       "grid_template_rows": null,
       "height": null,
       "justify_content": null,
       "justify_items": null,
       "left": null,
       "margin": null,
       "max_height": null,
       "max_width": null,
       "min_height": null,
       "min_width": null,
       "object_fit": null,
       "object_position": null,
       "order": null,
       "overflow": null,
       "overflow_x": null,
       "overflow_y": null,
       "padding": null,
       "right": null,
       "top": null,
       "visibility": null,
       "width": null
      }
     }
    },
    "version_major": 2,
    "version_minor": 0
   }
  }
 },
 "nbformat": 4,
 "nbformat_minor": 5
}
